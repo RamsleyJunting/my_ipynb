{
 "cells": [
  {
   "cell_type": "code",
   "execution_count": 7,
   "metadata": {},
   "outputs": [],
   "source": [
    "import torch\n",
    "import numpy as np\n",
    "import ipdb"
   ]
  },
  {
   "cell_type": "code",
   "execution_count": 8,
   "metadata": {},
   "outputs": [],
   "source": [
    "def gaussian_kernel(kernel_size, sigma):\n",
    "    x = np.arange(0, kernel_size, 1, float)\n",
    "    y = x[:, np.newaxis]  # just like transpose x and add a new axis\n",
    "    x0 = y0 = kernel_size // 2\n",
    "    gaussian = np.exp(- ((x - x0) ** 2 + (y - y0) ** 2) / (2 * sigma ** 2))\n",
    "    return gaussian"
   ]
  },
  {
   "cell_type": "code",
   "execution_count": 9,
   "metadata": {},
   "outputs": [],
   "source": [
    "def grouped(iterable, n):\n",
    "    return zip(*[iter(iterable)]*n)"
   ]
  },
  {
   "cell_type": "code",
   "execution_count": 10,
   "metadata": {},
   "outputs": [],
   "source": [
    "def keypoint_to_gaussian_heatmap(new_kp_array, output_size, radius=3):\n",
    "    '''\n",
    "        img: torch tensor (single channel)\n",
    "        keypoint: (x, y) (single point)\n",
    "    '''\n",
    "    # calculate gaussian range\n",
    "    c = new_kp_array.shape[0]\n",
    "    h, w = output_size\n",
    "#     x, y, v = keypoint\n",
    "    heatmap = np.zeros([c, h, w])\n",
    "    tl_point = new_kp_array[:,:2] - radius\n",
    "    br_point = new_kp_array[:,:2] + radius\n",
    "    # Invalid keypoint position\n",
    "    zero_idx = np.unique(np.concatenate((np.where(tl_point[:,0] >= w)[0],\n",
    "                                        np.where(tl_point[:,1] >= h)[0],\n",
    "                                        np.where(br_point[:,0] < 0)[0],\n",
    "                                        np.where(br_point[:,1] < 0)[0],\n",
    "                                        np.where(new_kp_array[:,2] < 1)[0])))\n",
    "    cal_idx = set(range(c)).difference(zero_idx)\n",
    "\n",
    "    kernel_size = 2 * radius + 1\n",
    "    sigma = kernel_size / 4\n",
    "    gaussian = np.array(gaussian_kernel(kernel_size, sigma))\n",
    "    # Gaussian range\n",
    "    g_xmin = np.round(np.maximum(0, -tl_point[:,0])).astype(int)\n",
    "    g_xmax = np.round(np.minimum(w, br_point[:,0]) - tl_point[:,0]).astype(int)\n",
    "    g_ymin = np.round(np.maximum(0, -tl_point[:,1])).astype(int)\n",
    "    g_ymax = np.round(np.minimum(h, br_point[:,1]) - tl_point[:,1]).astype(int)\n",
    "    \n",
    "    # Image range\n",
    "    heatmap_xmin = np.round(np.maximum(0, tl_point[:,0])).astype(int)\n",
    "    heatmap_xmax = np.round(np.minimum(w, br_point[:,0])).astype(int)\n",
    "    heatmap_ymin = np.round(np.maximum(0, tl_point[:,1])).astype(int)\n",
    "    heatmap_ymax = np.round(np.minimum(h, br_point[:,1])).astype(int)\n",
    "\n",
    "    delta_y = np.minimum(g_ymax-g_ymin, heatmap_ymax-heatmap_ymin)\n",
    "    delta_x = np.minimum(g_xmax-g_xmin, heatmap_xmax-heatmap_xmin)\n",
    "    \n",
    "    for i in cal_idx:\n",
    "        heatmap[i,heatmap_ymin[i]:heatmap_ymin[i]+delta_y[i], heatmap_xmin[i]:heatmap_xmin[i]+delta_x[i]] \\\n",
    "                = gaussian[g_ymin[i]:g_ymin[i]+delta_y[i], g_xmin[i]:g_xmin[i]+delta_x[i]]\n",
    "    return torch.as_tensor(heatmap, dtype=torch.float32)"
   ]
  },
  {
   "cell_type": "code",
   "execution_count": 11,
   "metadata": {},
   "outputs": [],
   "source": [
    "def transform_keypoint_coordinate(kp_array, bbox, output_size):\n",
    "    '''\n",
    "        transform and get final keypoint coordinate in final heatmap\n",
    "\n",
    "        keypoint: (x, y)\n",
    "        bbox: [xmin, ymin, xmax, ymax]\n",
    "        input_size: (input_h, input_w)\n",
    "        output_size: (output_h, output_w)\n",
    "    '''\n",
    "    # relative coordinate to the top_left point\n",
    "    bbox_array = np.array(bbox)\n",
    "    relative_tl = kp_array - bbox_array[:2]\n",
    "    # calculating padding value\n",
    "    input_h, input_w = bbox[3] - bbox[1], bbox[2] - bbox[0]\n",
    "    output_h, output_w = output_size\n",
    "    h = max(input_h, input_w * output_h / output_w)\n",
    "    w = h * output_w / output_h\n",
    "    delta_w = w - input_w\n",
    "    delta_h = h - input_h\n",
    "    # fix relative coordinate after padding\n",
    "    relatvie_tl = relative_tl + np.array([delta_w/2, delta_h/2])\n",
    "    ratio = output_h / h\n",
    "    final_coordinate = relatvie_tl * ratio\n",
    "    return final_coordinate"
   ]
  },
  {
   "cell_type": "code",
   "execution_count": 12,
   "metadata": {},
   "outputs": [
    {
     "name": "stdout",
     "output_type": "stream",
     "text": [
      "(array([4, 4, 4, 4, 4, 4, 4, 4, 4, 4, 4, 4, 4, 4, 4, 4, 4, 4, 4, 4, 4, 4,\n",
      "       4, 4, 4, 4, 4, 4, 4, 4, 4, 4, 4, 4, 4, 4]), array([46, 46, 46, 46, 46, 46, 47, 47, 47, 47, 47, 47, 48, 48, 48, 48, 48,\n",
      "       48, 49, 49, 49, 49, 49, 49, 50, 50, 50, 50, 50, 50, 51, 51, 51, 51,\n",
      "       51, 51]), array([29, 30, 31, 32, 33, 34, 29, 30, 31, 32, 33, 34, 29, 30, 31, 32, 33,\n",
      "       34, 29, 30, 31, 32, 33, 34, 29, 30, 31, 32, 33, 34, 29, 30, 31, 32,\n",
      "       33, 34]))\n"
     ]
    }
   ],
   "source": [
    "keypoints=[0, 0, 0, 0, 0, 0, 0, 0, 0, 0, 0, 0, 59, 489, 2, 0, 0, 0, 0, 0, 0, 0, 0, 0, 0, 0, 0, 0, 0, 0, 0, 0, 0, 0, 0, 0, 0, 0, 0, 0, 0, 0, 0, 0, 0, 0, 0, 0, 0, 0, 0]\n",
    "kp_array = np.asarray(keypoints).reshape(-1,3)\n",
    "output_size = (80, 64)\n",
    "bbox = (0, 293, 120, 611)\n",
    "new_kp_xy = transform_keypoint_coordinate(kp_array[:,:2], bbox, output_size)\n",
    "new_kp_array = np.concatenate((new_kp_xy, kp_array[:,-1:]), axis=1)\n",
    "heatmaps = keypoint_to_gaussian_heatmap(new_kp_array, output_size)\n",
    "print(np.where(heatmaps.numpy()>0))"
   ]
  },
  {
   "cell_type": "code",
   "execution_count": null,
   "metadata": {},
   "outputs": [],
   "source": []
  },
  {
   "cell_type": "code",
   "execution_count": null,
   "metadata": {},
   "outputs": [],
   "source": []
  }
 ],
 "metadata": {
  "kernelspec": {
   "display_name": "Python 3",
   "language": "python",
   "name": "python3"
  },
  "language_info": {
   "codemirror_mode": {
    "name": "ipython",
    "version": 3
   },
   "file_extension": ".py",
   "mimetype": "text/x-python",
   "name": "python",
   "nbconvert_exporter": "python",
   "pygments_lexer": "ipython3",
   "version": "3.6.5"
  }
 },
 "nbformat": 4,
 "nbformat_minor": 2
}
