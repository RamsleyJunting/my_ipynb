{
 "cells": [
  {
   "cell_type": "code",
   "execution_count": 7,
   "metadata": {},
   "outputs": [],
   "source": [
    "# -*- coding: utf-8 -*-\n",
    "import cv2\n",
    "import os\n",
    "import sys\n",
    "import random\n",
    "import json\n",
    "import numpy as np\n",
    "%matplotlib inline\n",
    "import matplotlib.pyplot as plt\n",
    "import ipdb"
   ]
  },
  {
   "cell_type": "code",
   "execution_count": 8,
   "metadata": {},
   "outputs": [],
   "source": [
    "def get_infos(source_lst, num_samples, size):\n",
    "    recs = open(source_lst,\"r\").readlines()\n",
    "    label_lst = []\n",
    "    image_lst = []\n",
    "    recs = random.sample(recs, num_samples)\n",
    "    for line in recs:\n",
    "        if \"points\" in line:\n",
    "            json_str = json.loads(line.split(\"\\t\")[-2])\n",
    "            path = line.split(\"\\t\")[0]\n",
    "            original_im = cv2.imread(path)\n",
    "            h, w, _ = original_im.shape\n",
    "            xs, ys = zip(*json_str[\"points\"])\n",
    "            xmin, ymin = min(xs), min(ys)\n",
    "            xmax, ymax = max(xs), max(ys)\n",
    "            xmin *= w\n",
    "            xmax *= w\n",
    "            ymin *= h\n",
    "            ymax *= h\n",
    "            img = original_im[int(ymin):int(ymax), int(xmin):int(xmax)]\n",
    "            label = int(line.split(\"\\t\")[1])\n",
    "        else:\n",
    "            path = line.split(\" \")[0]\n",
    "            img = cv2.imread(path)\n",
    "            \n",
    "            label = int(line.split(\" \")[1])\n",
    "        if label in [11, 13]:continue\n",
    "        age_mapping = {0:0, 1:1, 2:2, 3:3, 4:4, 5:5, 12:6, 6:7, 7:8, 8:9, 9:10, 10:11}\n",
    "        label = age_mapping[label]\n",
    "        img = cv2.resize(img,(size[1], size[0]), interpolation=cv2.INTER_CUBIC)\n",
    "        label_lst.append(label)\n",
    "        image_lst.append(img)\n",
    "    return image_lst, label_lst\n",
    "    "
   ]
  },
  {
   "cell_type": "code",
   "execution_count": 9,
   "metadata": {},
   "outputs": [
    {
     "ename": "IndexError",
     "evalue": "list index out of range",
     "output_type": "error",
     "traceback": [
      "\u001b[0;31m---------------------------------------------------------------------------\u001b[0m",
      "\u001b[0;31mIndexError\u001b[0m                                Traceback (most recent call last)",
      "\u001b[0;32m<ipython-input-9-d0a808977eff>\u001b[0m in \u001b[0;36m<module>\u001b[0;34m()\u001b[0m\n\u001b[1;32m     27\u001b[0m \u001b[0;32mfor\u001b[0m \u001b[0mrow\u001b[0m \u001b[0;32min\u001b[0m \u001b[0mrange\u001b[0m\u001b[0;34m(\u001b[0m\u001b[0;36m1\u001b[0m\u001b[0;34m,\u001b[0m\u001b[0mrows\u001b[0m\u001b[0;34m+\u001b[0m\u001b[0;36m1\u001b[0m\u001b[0;34m)\u001b[0m\u001b[0;34m:\u001b[0m\u001b[0;34m\u001b[0m\u001b[0m\n\u001b[1;32m     28\u001b[0m     \u001b[0;32mfor\u001b[0m \u001b[0mcol\u001b[0m \u001b[0;32min\u001b[0m \u001b[0mrange\u001b[0m\u001b[0;34m(\u001b[0m\u001b[0;36m1\u001b[0m\u001b[0;34m,\u001b[0m\u001b[0mcols\u001b[0m\u001b[0;34m+\u001b[0m\u001b[0;36m1\u001b[0m\u001b[0;34m)\u001b[0m\u001b[0;34m:\u001b[0m\u001b[0;34m\u001b[0m\u001b[0m\n\u001b[0;32m---> 29\u001b[0;31m         \u001b[0mlabel\u001b[0m \u001b[0;34m=\u001b[0m \u001b[0mlabel_lst\u001b[0m\u001b[0;34m[\u001b[0m\u001b[0mcol\u001b[0m\u001b[0;34m*\u001b[0m\u001b[0;34m(\u001b[0m\u001b[0mrow\u001b[0m\u001b[0;34m-\u001b[0m\u001b[0;36m1\u001b[0m\u001b[0;34m)\u001b[0m\u001b[0;34m+\u001b[0m\u001b[0mcol\u001b[0m\u001b[0;34m-\u001b[0m\u001b[0;36m1\u001b[0m\u001b[0;34m]\u001b[0m\u001b[0;34m\u001b[0m\u001b[0m\n\u001b[0m\u001b[1;32m     30\u001b[0m         \u001b[0mcv2\u001b[0m\u001b[0;34m.\u001b[0m\u001b[0mputText\u001b[0m\u001b[0;34m(\u001b[0m\u001b[0mpage\u001b[0m\u001b[0;34m,\u001b[0m \u001b[0mstr\u001b[0m\u001b[0;34m(\u001b[0m\u001b[0mlabel\u001b[0m\u001b[0;34m)\u001b[0m\u001b[0;34m,\u001b[0m                     \u001b[0;34m(\u001b[0m\u001b[0;34m(\u001b[0m\u001b[0mcol\u001b[0m\u001b[0;34m-\u001b[0m\u001b[0;36m1\u001b[0m\u001b[0;34m)\u001b[0m\u001b[0;34m*\u001b[0m\u001b[0;34m(\u001b[0m\u001b[0mimg_size\u001b[0m\u001b[0;34m[\u001b[0m\u001b[0;36m1\u001b[0m\u001b[0;34m]\u001b[0m\u001b[0;34m+\u001b[0m\u001b[0mv_gap\u001b[0m\u001b[0;34m)\u001b[0m\u001b[0;34m,\u001b[0m \u001b[0;34m(\u001b[0m\u001b[0mrow\u001b[0m\u001b[0;34m-\u001b[0m\u001b[0;36m1\u001b[0m\u001b[0;34m)\u001b[0m\u001b[0;34m*\u001b[0m\u001b[0;34m(\u001b[0m\u001b[0mh_gap\u001b[0m\u001b[0;34m+\u001b[0m\u001b[0mimg_size\u001b[0m\u001b[0;34m[\u001b[0m\u001b[0;36m0\u001b[0m\u001b[0;34m]\u001b[0m\u001b[0;34m)\u001b[0m\u001b[0;34m+\u001b[0m\u001b[0;36m50\u001b[0m\u001b[0;34m)\u001b[0m\u001b[0;34m,\u001b[0m                     \u001b[0mcv2\u001b[0m\u001b[0;34m.\u001b[0m\u001b[0mFONT_HERSHEY_PLAIN\u001b[0m\u001b[0;34m,\u001b[0m \u001b[0;36m1.5\u001b[0m\u001b[0;34m,\u001b[0m \u001b[0;34m(\u001b[0m\u001b[0;36m0\u001b[0m\u001b[0;34m,\u001b[0m\u001b[0;36m0\u001b[0m\u001b[0;34m,\u001b[0m\u001b[0;36m0\u001b[0m\u001b[0;34m)\u001b[0m\u001b[0;34m,\u001b[0m \u001b[0;36m2\u001b[0m\u001b[0;34m)\u001b[0m\u001b[0;34m\u001b[0m\u001b[0m\n\u001b[1;32m     31\u001b[0m         \u001b[0mcv2\u001b[0m\u001b[0;34m.\u001b[0m\u001b[0mputText\u001b[0m\u001b[0;34m(\u001b[0m\u001b[0mpage\u001b[0m\u001b[0;34m,\u001b[0m \u001b[0mage_scpoe_mapping\u001b[0m\u001b[0;34m[\u001b[0m\u001b[0mlabel\u001b[0m\u001b[0;34m]\u001b[0m\u001b[0;34m,\u001b[0m             \u001b[0;34m(\u001b[0m\u001b[0;34m(\u001b[0m\u001b[0mcol\u001b[0m\u001b[0;34m-\u001b[0m\u001b[0;36m1\u001b[0m\u001b[0;34m)\u001b[0m\u001b[0;34m*\u001b[0m\u001b[0;34m(\u001b[0m\u001b[0mimg_size\u001b[0m\u001b[0;34m[\u001b[0m\u001b[0;36m1\u001b[0m\u001b[0;34m]\u001b[0m\u001b[0;34m+\u001b[0m\u001b[0mv_gap\u001b[0m\u001b[0;34m)\u001b[0m\u001b[0;34m+\u001b[0m\u001b[0;36m60\u001b[0m\u001b[0;34m,\u001b[0m \u001b[0;34m(\u001b[0m\u001b[0mrow\u001b[0m\u001b[0;34m-\u001b[0m\u001b[0;36m1\u001b[0m\u001b[0;34m)\u001b[0m\u001b[0;34m*\u001b[0m\u001b[0;34m(\u001b[0m\u001b[0mh_gap\u001b[0m\u001b[0;34m+\u001b[0m\u001b[0mimg_size\u001b[0m\u001b[0;34m[\u001b[0m\u001b[0;36m0\u001b[0m\u001b[0;34m]\u001b[0m\u001b[0;34m)\u001b[0m\u001b[0;34m+\u001b[0m\u001b[0;36m50\u001b[0m\u001b[0;34m)\u001b[0m\u001b[0;34m,\u001b[0m             \u001b[0mcv2\u001b[0m\u001b[0;34m.\u001b[0m\u001b[0mFONT_HERSHEY_PLAIN\u001b[0m\u001b[0;34m,\u001b[0m \u001b[0;36m1.5\u001b[0m\u001b[0;34m,\u001b[0m \u001b[0;34m(\u001b[0m\u001b[0;36m0\u001b[0m\u001b[0;34m,\u001b[0m\u001b[0;36m0\u001b[0m\u001b[0;34m,\u001b[0m\u001b[0;36m0\u001b[0m\u001b[0;34m)\u001b[0m\u001b[0;34m,\u001b[0m \u001b[0;36m2\u001b[0m\u001b[0;34m)\u001b[0m\u001b[0;34m\u001b[0m\u001b[0m\n",
      "\u001b[0;31mIndexError\u001b[0m: list index out of range"
     ]
    }
   ],
   "source": [
    "h_gap = 50\n",
    "v_gap = 50\n",
    "text_gap = 45\n",
    "rows = 8\n",
    "cols = 7\n",
    "num_samples = rows*cols\n",
    "img_size = (256, 128)\n",
    "\n",
    "source_lst = \"/world/data-c26/liliang/person_attribute/v4_20190514/lst/age/source/train_keypoints_v4.json\"\n",
    "batch_size = num_samples\n",
    "page = np.ones(((img_size[0]+h_gap)*rows, (img_size[1]+v_gap)*cols, 3), dtype=np.uint8) * 255\n",
    "normalize_mean = np.reshape(np.array([0.485, 0.456, 0.406]),\n",
    "                                         [3, 1, 1])\n",
    "normalize_variance = np.reshape(np.array([0.229, 0.224, 0.225]),\n",
    "                                             [3, 1, 1])\n",
    "image_lst, label_lst = get_infos(source_lst, num_samples, img_size)\n",
    "# for img in imgs:\n",
    "#     img=np.array(img).astype(np.float32)\n",
    "#     img = img*normalize_variance+normalize_mean\n",
    "#     img*=255.0\n",
    "#     img = np.transpose(img, [1,2,0]).astype(np.float32)\n",
    "#     np_imgs.append(img)\n",
    "k=0\n",
    "age_scpoe_mapping = {0:\"0-1\", 1:\"2-5\", 2:\"6-10\", 3:\"11-15\", 4:\"16-20\", \n",
    "                    5:\"21-25\", 6:\"25-30\", 7:\"31-40\", 8:\"41-50\", \n",
    "                     9:\"51-60\", 10:\"61-80\", 11:\"80+\", }\n",
    "for row in range(1,rows+1):\n",
    "    for col in range(1,cols+1):\n",
    "        label = label_lst[col*(row-1)+col-1]\n",
    "        cv2.putText(page, str(label), \\\n",
    "                    ((col-1)*(img_size[1]+v_gap), (row-1)*(h_gap+img_size[0])+50), \\\n",
    "                    cv2.FONT_HERSHEY_PLAIN, 1.5, (0,0,0), 2)\n",
    "        cv2.putText(page, age_scpoe_mapping[label], \\\n",
    "            ((col-1)*(img_size[1]+v_gap)+60, (row-1)*(h_gap+img_size[0])+50), \\\n",
    "            cv2.FONT_HERSHEY_PLAIN, 1.5, (0,0,0), 2)\n",
    "        page[row*h_gap+(row-1)*img_size[0]:row*(h_gap+img_size[0])\\\n",
    "            , (col-1)*(v_gap+img_size[1]):col*img_size[1]+(col-1)*v_gap] \\\n",
    "            = image_lst[k]\n",
    "        k+=1\n",
    "\n",
    "plt.figure(figsize = (30,30))\n",
    "plt.axis('off')\n",
    "plt.imshow(cv2.cvtColor(page, cv2.COLOR_BGR2RGB))"
   ]
  },
  {
   "cell_type": "code",
   "execution_count": null,
   "metadata": {},
   "outputs": [],
   "source": []
  },
  {
   "cell_type": "code",
   "execution_count": null,
   "metadata": {},
   "outputs": [],
   "source": []
  }
 ],
 "metadata": {
  "kernelspec": {
   "display_name": "Python 3",
   "language": "python",
   "name": "python3"
  },
  "language_info": {
   "codemirror_mode": {
    "name": "ipython",
    "version": 3
   },
   "file_extension": ".py",
   "mimetype": "text/x-python",
   "name": "python",
   "nbconvert_exporter": "python",
   "pygments_lexer": "ipython3",
   "version": "3.6.5"
  }
 },
 "nbformat": 4,
 "nbformat_minor": 2
}
