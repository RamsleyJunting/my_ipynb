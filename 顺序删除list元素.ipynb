{
 "cells": [
  {
   "cell_type": "code",
   "execution_count": 22,
   "metadata": {},
   "outputs": [
    {
     "name": "stdout",
     "output_type": "stream",
     "text": [
      "[1, 3, 6, 7, 8, 5, 4, 3, 2, 4, 2, 4, 3, 55]\n",
      "[1, 3, 6, 7, 8, 5, 3, 2, 4, 2, 4, 3, 55] 6\n",
      "[1, 3, 6, 7, 8, 5, 3, 2, 2, 4, 3, 55] 8\n",
      "[1, 3, 6, 7, 8, 5, 3, 2, 2, 3, 55] 9\n",
      "[1, 3, 6, 7, 8, 5, 3, 2, 3, 55] 7\n",
      "[1, 3, 6, 7, 8, 5, 3, 3, 55] 7\n",
      "0 1 2\n",
      "1 3 4\n"
     ]
    }
   ],
   "source": [
    "a=[1,3,6,7,8,5,4,3,2,4,2,4,3,55]\n",
    "dell = [4,2]\n",
    "print(a)\n",
    "# for i in range(len(a)):\n",
    "#     try:\n",
    "#         if a[i]==4:\n",
    "#             a.remove(a[i])\n",
    "#             print(a, i)\n",
    "#     except IndexError:\n",
    "#         print(i)\n",
    "# 顺序删除list元素\n",
    "i=0\n",
    "for j in dell:\n",
    "    while(i<len(a)):\n",
    "        if a[i]==j:\n",
    "            del a[i]\n",
    "            print(a, i)\n",
    "        else:\n",
    "            i+=1\n",
    "    i=0\n",
    "        "
   ]
  },
  {
   "cell_type": "code",
   "execution_count": null,
   "metadata": {},
   "outputs": [],
   "source": []
  },
  {
   "cell_type": "code",
   "execution_count": null,
   "metadata": {},
   "outputs": [],
   "source": []
  }
 ],
 "metadata": {
  "kernelspec": {
   "display_name": "Python 3",
   "language": "python",
   "name": "python3"
  },
  "language_info": {
   "codemirror_mode": {
    "name": "ipython",
    "version": 3
   },
   "file_extension": ".py",
   "mimetype": "text/x-python",
   "name": "python",
   "nbconvert_exporter": "python",
   "pygments_lexer": "ipython3",
   "version": "3.6.5"
  }
 },
 "nbformat": 4,
 "nbformat_minor": 2
}
