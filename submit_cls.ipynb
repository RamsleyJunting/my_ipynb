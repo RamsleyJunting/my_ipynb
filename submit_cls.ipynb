{
 "cells": [
  {
   "cell_type": "code",
   "execution_count": 4,
   "metadata": {},
   "outputs": [
    {
     "name": "stdout",
     "output_type": "stream",
     "text": [
      "0 labels finished\n"
     ]
    }
   ],
   "source": [
    "import json\n",
    "import os\n",
    "import time\n",
    "import shutil\n",
    "from PIL import Image\n",
    "import cv2\n",
    "import os\n",
    "    \n",
    "submit_json_path = \"/world/data-c40/liliang/submit_aqc1_63.json\"\n",
    "query_dir = \"/world/data-gpu-112/kebo/datasets/NAIC_ReID/stage1/query_a\"\n",
    "gallery_dir = \"/world/data-gpu-112/kebo/datasets/NAIC_ReID/stage1/gallery_a\"\n",
    "out_dir = \"/world/data-c7/reid_by_dataset/NAIC_stage1_val\"\n",
    "with open(submit_json_path, \"r\") as f:\n",
    "    submit_json = f.readlines()[0]\n",
    "result = json.loads(submit_json)\n",
    "if os.path.exists(out_dir):\n",
    "    shutil.rmtree(out_dir)\n",
    "os.mkdir(out_dir)\n",
    "for i, it in enumerate(result.items()):\n",
    "    dest_dir = os.path.join(out_dir, str(i))\n",
    "    os.mkdir(dest_dir)\n",
    "    q_img, g_img_lst = it\n",
    "    q_img = os.path.join(query_dir, q_img)\n",
    "    shutil.copy(q_img, dest_dir)\n",
    "    for g_img in g_img_lst[:50]:\n",
    "        g_img = os.path.join(gallery_dir, g_img)\n",
    "        shutil.copy(g_img, dest_dir)\n",
    "    if i>50:\n",
    "        break\n",
    "    if i%100==0:\n",
    "        print(\"%s labels finished\"%i)"
   ]
  },
  {
   "cell_type": "code",
   "execution_count": null,
   "metadata": {},
   "outputs": [],
   "source": [
    "import json\n",
    "import os\n",
    "import time\n",
    "import shutil\n",
    "\n",
    "submit_json_path = \"/world/data-c40/liliang/sorting_result.json\"\n",
    "query_dir = \"/world/data-gpu-112/kebo/datasets/NAIC_ReID/stage1/query_a\"\n",
    "gallery_dir = \"/world/data-gpu-112/kebo/datasets/NAIC_ReID/stage1/gallery_a\"\n",
    "out_dir = \"/world/data-c7/reid_by_dataset/NAIC_stage1_val\"\n",
    "with open(submit_json_path, \"r\") as f:\n",
    "    submit_json = f.readlines()[0]\n",
    "result = json.loads(submit_json)\n",
    "if os.path.exists(out_dir):\n",
    "    shutil.rmtree(out_dir)\n",
    "    os.mkdir(out_dir)\n",
    "    \n",
    "has_cped = set()\n",
    "gallery_pool = set(os.listdir(gallery_dir))\n",
    "cp_cnt = 0\n",
    "    \n",
    "for i, it in enumerate(result.items()):\n",
    "    q_img, g_info_lst = it\n",
    "    q_img = os.path.join(query_dir, q_img)\n",
    "    dest_dir = os.path.join(out_dir, str(i))\n",
    "    shutil.copy(q_img, dest_dir)\n",
    "    os.mkdir(dest_dir)\n",
    "    for g_info in g_info_lst[\"topN\"]:\n",
    "        g_img = g_info[\"label\"]\n",
    "        g_dist = g_info[\"dist\"]\n",
    "        if g_dist < 0.8:\n",
    "            if not g_img in has_cped:\n",
    "                has_cped.add(g_img)\n",
    "                gallery_pool.remove(g_img)\n",
    "                g_img = os.path.join(gallery_dir, g_img)\n",
    "                shutil.copy(g_img, dest_dir)\n",
    "                cp_cnt += 1\n",
    "            else:\n",
    "                continue\n",
    "    if i%100==0:\n",
    "        print(\"%s labels finished\"%i)\n",
    "        print(\"%s gallery img has been copied\"%cp_cnt)\n",
    "        \n",
    "print(\"%s labels left\"%len(gallery_pool))\n",
    "dest_dir = os.path.join(out_dir, \"-1\")\n",
    "for jk in gallery_pool:\n",
    "    jk = os.path.join(gallery_dir, jk)\n",
    "    shutil.copy(jk, dest_dir)"
   ]
  },
  {
   "cell_type": "code",
   "execution_count": null,
   "metadata": {},
   "outputs": [],
   "source": [
    "val_query_list = \"/world/data-gpu-112/kebo/datasets/NAIC_ReID/stage1/test_phase1_query.txt\" \n",
    "val_gallery_list = \"/world/data-gpu-112/kebo/datasets/NAIC_ReID/stage1/test_phase1_gallery.txt\"\n",
    "\n",
    "out_val_query_list = \"/world/data-gpu-112/liliang/test_phase1_query.txt\" \n",
    "out_val_gallery_list = \"/world/data-gpu-112/liliang/test_phase1_gallery.txt\"\n",
    "\n"
   ]
  }
 ],
 "metadata": {
  "kernelspec": {
   "display_name": "Python 3",
   "language": "python",
   "name": "python3"
  },
  "language_info": {
   "codemirror_mode": {
    "name": "ipython",
    "version": 3
   },
   "file_extension": ".py",
   "mimetype": "text/x-python",
   "name": "python",
   "nbconvert_exporter": "python",
   "pygments_lexer": "ipython3",
   "version": "3.6.5"
  }
 },
 "nbformat": 4,
 "nbformat_minor": 2
}
