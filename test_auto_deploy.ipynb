{
 "cells": [
  {
   "cell_type": "code",
   "execution_count": null,
   "metadata": {},
   "outputs": [
    {
     "name": "stdout",
     "output_type": "stream",
     "text": [
      "1.0.0a0+af59395\n"
     ]
    }
   ],
   "source": [
    "import torch\n",
    "print(torch.__version__)\n",
    "from auto_deploy.predictor import Predictor\n",
    "model_path = \"/world/data-gpu-112/liliang/pytorch-output-mt/v5_sitting_layer3_lr001/resnet_50_ibn_a_20190723_094756.onnx\"\n",
    "predictor = Predictor(gpu=0, input_size=(128, 256), model_path=model_path,\n",
    "                      preprocess_dict={\"norm_lambda\": \"lambda x: x\", \"color_mode\": \"RGB\"})\n",
    "# x = torch.randn([1,256,128,3])\n",
    "# feature = predictor.predict([x])\n"
   ]
  },
  {
   "cell_type": "code",
   "execution_count": null,
   "metadata": {},
   "outputs": [],
   "source": [
    "from auto_deploy.predictor import Predictor\n",
    "import numpy as np\n",
    "import time\n",
    "#  支持多种模型类型，具体支持列表见下文。内部将通过不同的模型名称的后缀识别模型类型。\n",
    "path = \"/world/data-c9/liubofang/training/liveness_classify/training/mobilenet_v2_0/pytorch.pt\"\n",
    "#  norm_lambda 为归一化表达式，如前处理归一化已写进网络，此处可写为 lambda x: x ，即不做任何处理\n",
    "#  color_mode 为颜色模式，如果输入模型的为RGB格式，则填写RGB\n",
    "preprocess_dict = {\"norm_lambda\": \"lambda x: ((x / 255.0) - [0.485, 0.456, 0.406]) / [0.229, 0.224, 0.225]\",\n",
    "\t\t\t\t   \"color_mode\": \"RGB\"}\n",
    "#  部分模型类型会自动从固化模型里读取input_size，可以填写为None，祥见下面模型类型列表\n",
    "input_size = (224, 224)\n",
    "#  通用预测器，内部自动识别类型\n",
    "predictor = Predictor(gpu=0, input_size=input_size, model_path=path, preprocess_dict=preprocess_dict)\n",
    "#  随机生成一张图片，可以为你的真实图片\n",
    "image = (np.random.rand(224, 224, 3) * 255.0).astype(np.uint8)\n",
    "#  开始预测\n",
    "for i in range(1):\n",
    "\tst = time.time()\n",
    "\tresults = predictor.predict([image])\n",
    "\tprint(\"result: \", results)\n",
    "\tet = time.time()\n",
    "\tprint(\"time: \", et - st)"
   ]
  },
  {
   "cell_type": "code",
   "execution_count": null,
   "metadata": {},
   "outputs": [],
   "source": []
  }
 ],
 "metadata": {
  "kernelspec": {
   "display_name": "Python 3",
   "language": "python",
   "name": "python3"
  },
  "language_info": {
   "codemirror_mode": {
    "name": "ipython",
    "version": 3
   },
   "file_extension": ".py",
   "mimetype": "text/x-python",
   "name": "python",
   "nbconvert_exporter": "python",
   "pygments_lexer": "ipython3",
   "version": "3.6.5"
  }
 },
 "nbformat": 4,
 "nbformat_minor": 2
}
