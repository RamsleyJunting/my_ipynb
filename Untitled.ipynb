{
 "cells": [
  {
   "cell_type": "code",
   "execution_count": 6,
   "metadata": {},
   "outputs": [],
   "source": [
    "import torch\n",
    "import torch.nn.functional as F\n",
    "def foo(x, y):\n",
    "    return F.relu6(2 * x + y)\n",
    "traced_foo = torch.jit.trace(foo, (torch.rand(3), torch.rand(3)))"
   ]
  },
  {
   "cell_type": "code",
   "execution_count": 9,
   "metadata": {},
   "outputs": [
    {
     "name": "stdout",
     "output_type": "stream",
     "text": [
      "1\n"
     ]
    }
   ],
   "source": [
    "a=1\n",
    "try:\n",
    "    b=a+c\n",
    "except Exception as e:\n",
    "    print(1)"
   ]
  },
  {
   "cell_type": "code",
   "execution_count": 10,
   "metadata": {},
   "outputs": [
    {
     "name": "stdout",
     "output_type": "stream",
     "text": [
      "###  0.9988999998496103\n",
      "     1.0\n",
      "###  0.6342423102022102\n",
      "     1.4142135623730951\n",
      "###  0.3753854078336218\n",
      "     2.23606797749979\n",
      "###  0.2611915667164675\n",
      "     3.1622776601683795\n",
      "###  0.0786083838508657\n",
      "     10.0\n",
      "###  0.025387845811851228\n",
      "     31.622776601683793\n",
      "[0.9988999998496103, 0.8969540769188094, 0.8393872896774605, 0.825960256451864, 0.786083838508657, 0.8028341765061648]\n"
     ]
    }
   ],
   "source": [
    "import numpy as np\n",
    "sample = 10000\n",
    "length = [1, 2, 5, 10, 100, 1000]\n",
    "similarity = []\n",
    "random_range = 1000\n",
    "epsilon = 1e-8\n",
    "for index, l in enumerate(length):\n",
    "    similarity.append(0)\n",
    "    for i in range(sample): \n",
    "        a = np.random.randint(low=-random_range, high=random_range, size=(l,1))\n",
    "        b = np.random.randint(low=-random_range, high=random_range, size=(l,1))\n",
    "        a = a / (np.linalg.norm(a) + epsilon)\n",
    "        b = b / (np.linalg.norm(b) + epsilon)\n",
    "        similarity[index] += np.abs(np.sum(a * b))\n",
    "    similarity[index] /= sample\n",
    "    print(\"### \", similarity[index])\n",
    "    similarity[index] *= np.sqrt(l)\n",
    "    print(\"    \", np.sqrt(l))\n",
    "print(similarity)"
   ]
  },
  {
   "cell_type": "code",
   "execution_count": 9,
   "metadata": {},
   "outputs": [
    {
     "name": "stdout",
     "output_type": "stream",
     "text": [
      "44393 0 44393 969 5788\n"
     ]
    }
   ],
   "source": [
    "path = \"/world/data-c7/person-reid-data/test_data/anta_chongqing_cleaned.json\"\n",
    "import json\n",
    "cnt = 0\n",
    "_id = set()\n",
    "ido = set()\n",
    "label = set()\n",
    "bodyid = set()\n",
    "with open(path, \"r\") as f:\n",
    "    for line in f:\n",
    "#         print(line)\n",
    "        path, json_str = line.split(\"\\t\")\n",
    "        obj = json.loads(json_str)\n",
    "        cnt+=1\n",
    "        if \"_id\" in obj.keys():\n",
    "            _id.add(obj[\"_id\"])\n",
    "        if \"id\" in obj.keys():\n",
    "            ido.add(obj[\"id\"])\n",
    "        label.add(obj[\"label\"])\n",
    "        bodyid.add(obj[\"bodyId\"])\n",
    "print(cnt, len(_id), len(ido), len(label), len(bodyid))\n",
    "        "
   ]
  },
  {
   "cell_type": "code",
   "execution_count": null,
   "metadata": {},
   "outputs": [],
   "source": []
  }
 ],
 "metadata": {
  "kernelspec": {
   "display_name": "Python 3",
   "language": "python",
   "name": "python3"
  },
  "language_info": {
   "codemirror_mode": {
    "name": "ipython",
    "version": 3
   },
   "file_extension": ".py",
   "mimetype": "text/x-python",
   "name": "python",
   "nbconvert_exporter": "python",
   "pygments_lexer": "ipython3",
   "version": "3.6.5"
  }
 },
 "nbformat": 4,
 "nbformat_minor": 2
}
