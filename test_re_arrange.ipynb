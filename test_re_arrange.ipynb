{
 "cells": [
  {
   "cell_type": "code",
   "execution_count": 12,
   "metadata": {},
   "outputs": [
    {
     "name": "stdout",
     "output_type": "stream",
     "text": [
      "[0, 3, 4, 5, 7, 8, 9]\n",
      "[[0, 1], [0, 2], [3, 4], [3, 5], [3, 6]]\n"
     ]
    }
   ],
   "source": [
    "import numpy as np\n",
    "def re_arrange(detections, assign_pairs):\n",
    "    reach_out_ids = set(np.array(assign_pairs).flatten().tolist())\n",
    "    del_idx_list = list(set(range(len(detections))).difference(reach_out_ids))\n",
    "    for del_count,del_idx in enumerate(del_idx_list):\n",
    "        del_idx -= del_count\n",
    "        detections.remove(detections[del_idx])\n",
    "        for i,pair in enumerate(assign_pairs):\n",
    "            bc_idx, cus_idx = pair\n",
    "            bc_idx = bc_idx if bc_idx<del_idx else bc_idx-1\n",
    "            cus_idx = cus_idx if cus_idx<del_idx else cus_idx-1\n",
    "            assign_pairs[i] = [bc_idx, cus_idx]\n",
    "    print(detections)\n",
    "    print(assign_pairs)\n",
    "            \n",
    "detections = [0,1,2,3,4,5,6,7,8,9]\n",
    "assign_pairs = [[0,3], [0,4], [5,7], [5,8], [5,9]]\n",
    "re_arrange(detections, assign_pairs)"
   ]
  },
  {
   "cell_type": "code",
   "execution_count": null,
   "metadata": {},
   "outputs": [],
   "source": []
  }
 ],
 "metadata": {
  "kernelspec": {
   "display_name": "Python 3",
   "language": "python",
   "name": "python3"
  },
  "language_info": {
   "codemirror_mode": {
    "name": "ipython",
    "version": 3
   },
   "file_extension": ".py",
   "mimetype": "text/x-python",
   "name": "python",
   "nbconvert_exporter": "python",
   "pygments_lexer": "ipython3",
   "version": "3.6.5"
  }
 },
 "nbformat": 4,
 "nbformat_minor": 2
}
