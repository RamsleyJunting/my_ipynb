{
 "cells": [
  {
   "cell_type": "code",
   "execution_count": null,
   "metadata": {},
   "outputs": [],
   "source": [
    "failure_path = \"/world/data-gpu-112/liliang/pytorch-output/NAIC/test/epoch_badcases_1.json\"\n",
    "label2paths_json = \"/world/data-c7/xulie/naic_reid/train_stage_1_all_query/labels2paths.json\"\n",
    "with open(failure_path, \"r\") as f:\n",
    "    all_failures = json.load(f)\n",
    "    \n",
    "with open(label2paths_json, \"r\") as f:\n",
    "    label2paths = json.load(f)\n",
    "    \n",
    "def img_show():\n",
    "    paths, preds, labels = all_failures\n",
    "    for i, img in enumerate(paths):\n",
    "        if idx%cols==0:\n",
    "            plt.figure(idx, figsize=(20, 4))\n",
    "        plt.subplot(1, cols, show_cnt%cols+1)\n",
    "        img = np.squeeze(img)[:,:,::-1]\n",
    "        plt.imshow(img)\n",
    "        if len(pred_logits_lst)>1:\n",
    "            show_logits = [[round(k,2) for k in pred_logits_lst[j][i]] for j in range(2)]\n",
    "            plt.text(0, img.shape[0]*1.1, 'logit:%s , label:%s \\nlogit:%s , label:%s'\n",
    "                     %(show_logits[0], age_scpoe_mapping[pred_labels_lst[0][i]],\n",
    "                       show_logits[1], age_scpoe_mapping[pred_labels_lst[1][i]]))\n",
    "        else:\n",
    "            show_logits = [round(k,2) for k in pred_logits_lst[0][i]]\n",
    "            plt.text(0, img.shape[0]*1.1, 'logit:%s , label:%s'\n",
    "                     %(show_logits, age_scpoe_mapping[pred_labels_lst[0][i]]))       \n",
    "        plt.axis('off')\n",
    "        idx += 1\n",
    "            \n",
    "img_show()"
   ]
  }
 ],
 "metadata": {
  "kernelspec": {
   "display_name": "Python 3",
   "language": "python",
   "name": "python3"
  },
  "language_info": {
   "codemirror_mode": {
    "name": "ipython",
    "version": 3
   },
   "file_extension": ".py",
   "mimetype": "text/x-python",
   "name": "python",
   "nbconvert_exporter": "python",
   "pygments_lexer": "ipython3",
   "version": "3.6.5"
  }
 },
 "nbformat": 4,
 "nbformat_minor": 2
}
