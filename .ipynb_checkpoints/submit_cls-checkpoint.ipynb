{
 "cells": [
  {
   "cell_type": "code",
   "execution_count": null,
   "metadata": {},
   "outputs": [
    {
     "name": "stdout",
     "output_type": "stream",
     "text": [
      "> \u001b[0;32m<ipython-input-9-9d0b66413974>\u001b[0m(17)\u001b[0;36m<module>\u001b[0;34m()\u001b[0m\n",
      "\u001b[0;32m     16 \u001b[0;31m    \u001b[0mipdb\u001b[0m\u001b[0;34m.\u001b[0m\u001b[0mset_trace\u001b[0m\u001b[0;34m(\u001b[0m\u001b[0;34m)\u001b[0m\u001b[0;34m\u001b[0m\u001b[0m\n",
      "\u001b[0m\u001b[0;32m---> 17 \u001b[0;31m    \u001b[0mos\u001b[0m\u001b[0;34m.\u001b[0m\u001b[0mmkdir\u001b[0m\u001b[0;34m(\u001b[0m\u001b[0mout_dir\u001b[0m\u001b[0;34m)\u001b[0m\u001b[0;34m\u001b[0m\u001b[0m\n",
      "\u001b[0m\u001b[0;32m     18 \u001b[0;31m\u001b[0;32mfor\u001b[0m \u001b[0mi\u001b[0m\u001b[0;34m,\u001b[0m \u001b[0mit\u001b[0m \u001b[0;32min\u001b[0m \u001b[0menumerate\u001b[0m\u001b[0;34m(\u001b[0m\u001b[0mresult\u001b[0m\u001b[0;34m.\u001b[0m\u001b[0mitems\u001b[0m\u001b[0;34m(\u001b[0m\u001b[0;34m)\u001b[0m\u001b[0;34m)\u001b[0m\u001b[0;34m:\u001b[0m\u001b[0;34m\u001b[0m\u001b[0m\n",
      "\u001b[0m\n"
     ]
    }
   ],
   "source": [
    "import json\n",
    "import os\n",
    "import time\n",
    "import shutil\n",
    "\n",
    "submit_json_path = \"/world/data-c40/liliang/submit_aqc1_63.json\"\n",
    "query_dir = \"/world/data-gpu-112/kebo/datasets/NAIC_ReID/stage1/query_a\"\n",
    "gallery_dir = \"/world/data-gpu-112/kebo/datasets/NAIC_ReID/stage1/gallery_a\"\n",
    "out_dir = \"/world/data-c7/reid_by_dataset/NAIC_stage1_val\"\n",
    "with open(submit_json_path, \"r\") as f:\n",
    "    submit_json = f.readlines()[0]\n",
    "result = json.loads(submit_json)\n",
    "if os.path.exists(out_dir):\n",
    "    shutil.rmtree(out_dir)\n",
    "    os.mkdir(out_dir)\n",
    "for i, it in enumerate(result.items()):\n",
    "    q_img, g_img_lst = it\n",
    "    q_img = os.path.join(query_dir, q_img)\n",
    "    dest_dir = os.path.join(out_dir, str(i))\n",
    "    shutil.copy(q_img, dest_dir)\n",
    "    for g_img in g_img_lst[:50]:\n",
    "        g_img = os.path.join(gallery_dir, g_img)\n",
    "        shutil.copy(g_img, dest_dir)\n",
    "    os.mkdir(dest_dir)\n",
    "    if i%100==0:\n",
    "        print(\"%s labels finished\"%i)"
   ]
  },
  {
   "cell_type": "code",
   "execution_count": null,
   "metadata": {},
   "outputs": [],
   "source": []
  }
 ],
 "metadata": {
  "kernelspec": {
   "display_name": "Python 3",
   "language": "python",
   "name": "python3"
  },
  "language_info": {
   "codemirror_mode": {
    "name": "ipython",
    "version": 3
   },
   "file_extension": ".py",
   "mimetype": "text/x-python",
   "name": "python",
   "nbconvert_exporter": "python",
   "pygments_lexer": "ipython3",
   "version": "3.6.5"
  }
 },
 "nbformat": 4,
 "nbformat_minor": 2
}
